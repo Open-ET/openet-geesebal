    "ndvi_palette = ['#EFE7E1', '#003300']\n",
